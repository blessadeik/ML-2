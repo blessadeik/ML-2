{
 "cells": [
  {
   "cell_type": "markdown",
   "id": "613b517f",
   "metadata": {},
   "source": [
    "#### Name: ADEIKA, Blessing Isoyiza\n",
    "#### Student ID: 00325967 \n",
    "#### Course: COSC 680 - Image Understanding and Computer Vision(CRN 74798)\n",
    "#### Instructor: Dr. MD Mahmudur Rahman\n",
    "#### Date: 8th of October, 2022"
   ]
  },
  {
   "cell_type": "markdown",
   "id": "e7a0718d",
   "metadata": {},
   "source": [
    "#### Question 1"
   ]
  },
  {
   "cell_type": "code",
   "execution_count": null,
   "id": "97a821f1",
   "metadata": {},
   "outputs": [],
   "source": [
    "import cv2\n",
    "from skimage.exposure import rescale_intensity\n",
    "import numpy as np"
   ]
  },
  {
   "cell_type": "markdown",
   "id": "5e69a276",
   "metadata": {},
   "source": [
    "#### Defining the Colvolve Function"
   ]
  },
  {
   "cell_type": "code",
   "execution_count": null,
   "id": "361775b7",
   "metadata": {},
   "outputs": [],
   "source": [
    "def convolve(image, kernel):\n",
    "\n",
    "    (iH, iW) = image.shape[:2]\n",
    "    (kH, kW) = kernel.shape[:2]\n",
    "\n",
    "    pad = (kW - 1) // 2\n",
    "    image = cv2.copyMakeBorder(image, pad, pad, pad, pad, cv2.BORDER_REPLICATE)\n",
    "    result = np.zeros((iH, iW), dtype=\"float32\")\n",
    "    \n",
    "    for y in np.arange(pad, iH + pad):\n",
    "            for x in np.arange(pad, iW + pad):\n",
    "                # extract the ROI of the image by extracting the\n",
    "                # *center* region of the current (x, y)-coordinates\n",
    "                # dimensions\n",
    "                \n",
    "                roi = image[y - pad:y + pad + 1, x - pad:x + pad + 1]\n",
    "                # perform the actual convolution by taking the\n",
    "                # element-wise multiplicate between the ROI and\n",
    "                # the kernel, then summing the matrix\n",
    "                \n",
    "                k = (roi * kernel).sum()\n",
    "                # store the convolved value in the output (x,y)-\n",
    "                # coordinate of the output image\n",
    "                \n",
    "                result[y - pad, x - pad] = k\n",
    "    # rescale the result image to be in the range [0, 255]\n",
    "    result = rescale_intensity(result, in_range=(0, 255))\n",
    "    result = (result * 255).astype(\"uint8\")\n",
    "    # return the Result image\n",
    "    return result"
   ]
  },
  {
   "cell_type": "markdown",
   "id": "89331b6d",
   "metadata": {},
   "source": [
    "#### 1a) Load the brain.jpg and car.jpeg images "
   ]
  },
  {
   "cell_type": "code",
   "execution_count": null,
   "id": "979f68a7",
   "metadata": {},
   "outputs": [],
   "source": [
    "brain = cv2.imread(\"brain.jpeg\")\n",
    "carr = cv2.imread(\"car.jpeg\")\n",
    "\n",
    "# Car Image is too large for the window view so, I would be resizing it to 50% of its original size.\n",
    "scale_carr= 50\n",
    "width = int(carr.shape[1]*scale_carr/100)\n",
    "height = int(carr.shape[0]*scale_carr/100)\n",
    "dimension = (width,height)\n",
    "\n",
    "car = cv2.resize(carr, dimension, interpolation = cv2.INTER_AREA)\n",
    " \n",
    "brain = cv2.cvtColor(brain, cv2.COLOR_BGR2GRAY)\n",
    "car = cv2.cvtColor(car, cv2.COLOR_BGR2GRAY)\n",
    "# Uncomment the code below to view the output image in a window\n",
    "# cv2.imshow(\"Brain Image\", brain)\n",
    "# cv2.imshow(\"Car Image\", car)\n",
    "# cv2.waitKey(0)"
   ]
  },
  {
   "cell_type": "markdown",
   "id": "21f55f80",
   "metadata": {},
   "source": [
    "#### b1) Perform average, weighted average and gaussian blurring and median filtering using filter of size 3x3 and 5 x 5 and show the sharpen images - using Convolve()\n"
   ]
  },
  {
   "cell_type": "code",
   "execution_count": null,
   "id": "128cedf2",
   "metadata": {},
   "outputs": [],
   "source": [
    "# Create Kernel Filters\n",
    "k3 = np.ones((3,3), dtype=\"float\")*(1.0 / (3 * 3))\n",
    "k5 = np.ones((5,5), dtype=\"float\")*(1.0 / (5 * 5))\n",
    "\n",
    "# AVERAGE\n",
    "avconv_brain_k3 = convolve(brain, k3)\n",
    "avconv_brain_k5 = convolve(brain, k5)\n",
    "stacked_brain = np.hstack((avconv_brain_k3, avconv_brain_k5))\n",
    "\n",
    "avconv_car_k3 = convolve(car, k3)\n",
    "avconv_car_k5 = convolve(car, k5)\n",
    "stacked_car = np.hstack((avconv_car_k3, avconv_car_k5))\n",
    "\n",
    "cv2.imshow(\" 3x3 & 5x5 Average Filtering on Brain Using the Convolve function\", stacked_brain)\n",
    "cv2.imshow(\" 3x3 & 5x5 Average Filtering on Car Using the Convolve function\", stacked_car)\n",
    "cv2.waitKey(0)\n",
    "\n",
    "# WEIGHTED AVERAGE & GAUSSIAN BLURRING\n",
    "# create Kernel for Gaussian\n",
    "\n",
    "gauss_k3 = np.array((\n",
    "    [1,2,1],\n",
    "    [2, 4, 2],\n",
    "    [1, 2, 1]), dtype=\"int\")*(1.0 / 16)\n",
    "\n",
    "gauss_k5 = np.array((\n",
    "    [1, 4, 7, 4, 1],\n",
    "    [4, 16, 26, 16, 4],\n",
    "    [7, 26, 41, 26, 7],\n",
    "    [4, 16, 26, 16, 4],\n",
    "    [1, 4, 7, 4, 1]), dtype=\"int\")*(1.0 / 273)\n",
    "\n",
    "# Gaussian blurring on Car Image\n",
    "gaussconv_brain_k3 = convolve(brain, gauss_k3)\n",
    "gaussconv_brain_k5 = convolve(brain, gauss_k5)\n",
    "stacked_gaussbrain = np.hstack((gaussconv_brain_k3, gaussconv_brain_k5))\n",
    "\n",
    "gaussconv_car_k3 = convolve(car, gauss_k3)\n",
    "gaussconv_car_k5 = convolve(car, gauss_k5)\n",
    "stacked_gausscar = np.hstack((gaussconv_car_k3, gaussconv_car_k5))\n",
    "\n",
    "cv2.imshow(\" 3x3 & 5x5 Gaussian Blurring on Brain Using the Convolve function\", stacked_gaussbrain)\n",
    "cv2.imshow(\" 3x3 & 5x5 Gaussian Blurring on Car Using the Convolve function\", stacked_gausscar)\n",
    "cv2.waitKey(0)\n"
   ]
  },
  {
   "cell_type": "markdown",
   "id": "585ed623",
   "metadata": {},
   "source": [
    "#### b2) Perform average, weighted average and gaussian blurring and median filtering using filter of size 3x3 and 5 x 5 and show the sharpen images - using OpenCV functions\n"
   ]
  },
  {
   "cell_type": "code",
   "execution_count": null,
   "id": "ae39d5fe",
   "metadata": {},
   "outputs": [],
   "source": [
    "# AVERAGE\n",
    "# On Brain\n",
    "average_braint = cv2.blur(brain,(3,3))\n",
    "average_brainf = cv2.blur(brain,(5,5))\n",
    "averaging_on_brain = np.hstack((average_braint, average_brainf))\n",
    "\n",
    "# On Car\n",
    "average_cart = cv2.blur(car,(3,3))\n",
    "average_carf = cv2.blur(car,(5,5))\n",
    "averaging_on_car = np.hstack((average_cart, average_carf))\n",
    "\n",
    "# Uncomment the code below to view the output image in a window\n",
    "# cv2.imshow(\"3x3 and 5x5 Averaging on brain\",averaging_on_brain )\n",
    "# cv2.imshow(\"3x3 and 5x5 Averaging on car\",averaging_on_car )\n",
    "# cv2.waitKey(0)\n",
    "\n",
    "# FILTERING\n",
    "# Filter 3x3 filter on brain\n",
    "kernel_braint = np.ones((3,3),np.float32)/9\n",
    "brain_three = cv2.filter2D(brain,-1,kernel_braint)\n",
    "stack_brain_three = np.hstack((brain, brain_three))\n",
    "\n",
    "# Filter 3x3 filter on car\n",
    "kernel_cart = np.ones((3,3),np.float32)/9\n",
    "car_three = cv2.filter2D(car,-1,kernel_cart)\n",
    "stack_car_three = np.hstack((car, car_three))\n",
    "\n",
    "# Filter 5x5 filter on brain\n",
    "kernel_brainf = np.ones((5,5),np.float32)/25\n",
    "brain_five = cv2.filter2D(brain,-1,kernel_brainf)\n",
    "stack_brain_five = np.hstack((brain, brain_five))\n",
    "\n",
    "# Filter 5x5 filter on car\n",
    "kernel_carf = np.ones((5,5),np.float32)/25\n",
    "car_five = cv2.filter2D(car,-1,kernel_carf)\n",
    "stack_car_five = np.hstack((car, car_five))\n",
    "\n",
    "# Uncomment the code below to view the output image in a window\n",
    "# cv2.imshow(\"3x3 filter on brain\",stack_brain_three )\n",
    "# cv2.imshow(\"3x3 filter on car\",stack_car_three )\n",
    "# cv2.imshow(\"5x5 filter on brain\",stack_brain_five )\n",
    "# cv2.imshow(\"5x5 filter on car\",stack_car_five )\n",
    "# cv2.waitKey(0)\n",
    "\n",
    "# WEIGHTED AVERAGE & GAUSSIAN BLURRING\n",
    "#Gaussian Blur on Brain\n",
    "brain_blur_three = cv2.GaussianBlur(brain,(3,3),0)\n",
    "brain_blur_five = cv2.GaussianBlur(brain,(5,5),0)\n",
    "gauss_brain = np.hstack((brain_blur_three, brain_blur_five))\n",
    "\n",
    "# Gaussian Blur on car\n",
    "car_blur_three = cv2.GaussianBlur(car,(3,3),0)\n",
    "car_blur_five = cv2.GaussianBlur(car,(5,5),0)\n",
    "gauss_car = np.hstack((car_blur_three, car_blur_five))\n",
    "\n",
    "cv2.imshow(\"3x3 and 5x5 Gaussian Blurring on Brain\",gauss_brain )\n",
    "cv2.imshow(\"3x3 and 5x5 Gaussian Blurring on Car\",gauss_car )\n",
    "cv2.waitKey(0)\n",
    "\n",
    "# MEDIAN FILTERING\n",
    "# Median filtering on Brain\n",
    "median_brain_three = cv2.medianBlur(brain, 3)\n",
    "median_brain_five = cv2.medianBlur(brain, 5)\n",
    "\n",
    "# Median filtering on Car\n",
    "median_car_three = cv2.medianBlur(car, 3)\n",
    "median_car_five = cv2.medianBlur(car, 5)\n",
    "\n",
    "cv2.imshow(\"Median Filtering for 3x3 Brain Image\", median_brain_three)\n",
    "cv2.imshow(\"Median Filtering for 5x5 Brain Image\", median_brain_five)\n",
    "cv2.imshow(\"Median Filtering for 3x3 Car Image\", median_car_three)\n",
    "cv2.imshow(\"Median Filtering for 5x5 Car Image\", median_car_five)\n",
    "\n",
    "cv2.waitKey(0)"
   ]
  },
  {
   "cell_type": "markdown",
   "id": "9e1c4f0c",
   "metadata": {},
   "source": [
    "#### c) Perform Unsharp Masking & High Boost Filtering (K=3) in same images"
   ]
  },
  {
   "cell_type": "code",
   "execution_count": null,
   "id": "b794f290",
   "metadata": {},
   "outputs": [],
   "source": [
    "\n",
    "#Unsharp masking and high boost filter on Car\n",
    "hbfilter_carmask_three = cv2.addWeighted(car, 2, car_blur_three, -1, 0)\n",
    "hbfilter_car = np.hstack((car_blur_three, hbfilter_carmask_three))\n",
    "\n",
    "#Unsharp masking and high boost filter on brain\n",
    "hbfilter_brainmask_three = cv2.addWeighted(brain, 2, brain_blur_three, -1, 0)\n",
    "hbfilter_brain = np.hstack((brain_blur_three, hbfilter_brainmask_three))\n",
    "\n",
    "cv2.imshow(\"Unsharp Masking & High Boost Filtering K=3 for Car\",hbfilter_car )\n",
    "cv2.imshow(\"Unsharp Masking & High Boost Filtering K=3 for brain\",hbfilter_brain )\n",
    "cv2.waitKey(0)"
   ]
  },
  {
   "cell_type": "markdown",
   "id": "ce61e947",
   "metadata": {},
   "source": [
    "#### d) Perform the Canny edge detection in both images and show your result.\n"
   ]
  },
  {
   "cell_type": "code",
   "execution_count": null,
   "id": "2f4089bb",
   "metadata": {},
   "outputs": [],
   "source": [
    "# Canny edge detection on Car K=3\n",
    "Canny_carmask_three = cv2.Canny(hbfilter_carmask_three, 100, 200)\n",
    "\n",
    "# Canny edge detection on brain K=3\n",
    "Canny_brainmask_three = cv2.Canny(hbfilter_brainmask_three, 100, 200)\n",
    "\n",
    "cv2.imshow(\"Canny on 3x3 Car image\", Canny_carmask_three)\n",
    "cv2.imshow(\"Canny on 3x3 Brain image\", Canny_brainmask_three)\n",
    "cv2.waitKey(0)"
   ]
  },
  {
   "cell_type": "markdown",
   "id": "493afc42",
   "metadata": {},
   "source": [
    "#### Question 2"
   ]
  },
  {
   "cell_type": "markdown",
   "id": "50788346",
   "metadata": {},
   "source": [
    "#### (a) Load the images (brain.jpg and body_scan.png (similar to Fig. 3.56 am3.57 of the book)\n"
   ]
  },
  {
   "cell_type": "code",
   "execution_count": null,
   "id": "b02c86f7",
   "metadata": {},
   "outputs": [],
   "source": [
    "brain = cv2.imread(\"brain.jpeg\")\n",
    "body_scan = cv2.imread(\"body_scan.png\")\n",
    "\n",
    "\n",
    "brain = cv2.cvtColor(brain, cv2.COLOR_BGR2GRAY)\n",
    "body_scan = cv2.cvtColor(body_scan, cv2.COLOR_BGR2GRAY)\n",
    "\n",
    "# cv2.imshow(\"Brain Image\", brainn)\n",
    "# cv2.imshow(\"Body scan Image\", body_scann)\n",
    "# cv2.waitKey(0)"
   ]
  },
  {
   "cell_type": "markdown",
   "id": "965eb0b9",
   "metadata": {},
   "source": [
    "#### (b) Perform Laplacian of (a)."
   ]
  },
  {
   "cell_type": "code",
   "execution_count": null,
   "id": "be552774",
   "metadata": {},
   "outputs": [],
   "source": [
    "\n",
    "laplacian = np.array((\n",
    "    [0, 1, 0],\n",
    "    [1, -4, 1],\n",
    "    [0, 1, 0]), dtype=\"int\")\n",
    "\n",
    "# Laplacian on brain using convolve function\n",
    "lap_brain_convolve = convolve(brain, laplacian)\n",
    "\n",
    "# Laplacian on brain using filter2D function\n",
    "lap_brain_filter = cv2.filter2D(brain,-1,laplacian)\n",
    "\n",
    "# Laplacian on body scan using convolve function\n",
    "lap_scan_convolve = convolve(body_scan, laplacian)\n",
    "\n",
    "# Laplacian on body scan using filter2D function\n",
    "lap_scan_filter = cv2.filter2D(body_scan,-1,laplacian)\n",
    "\n",
    "cv2.imshow(\"Laplacian for Brain Image:Convolve\", lap_brain_convolve)\n",
    "cv2.imshow(\"Laplacian for Brain Image:Filter\", lap_brain_filter)\n",
    "cv2.imshow(\"Laplacian for Body Scan Image:Convolve\", lap_scan_convolve)\n",
    "cv2.imshow(\"Laplacian for Body Scan Image:Filter\", lap_scan_filter)\n",
    "\n",
    "cv2.waitKey(0)"
   ]
  },
  {
   "cell_type": "markdown",
   "id": "4d125448",
   "metadata": {},
   "source": [
    "#### (c) Sharpened image obtained by adding (a) and (b)."
   ]
  },
  {
   "cell_type": "code",
   "execution_count": null,
   "id": "d919bef4",
   "metadata": {},
   "outputs": [],
   "source": [
    "sharpened_scan = cv2.addWeighted(body_scan, 2, lap_scan_convolve, -1, 0)\n",
    "sharpened_brain = cv2.addWeighted(brain, 2, lap_brain_convolve, -1, 0)\n",
    "\n",
    "cv2.imshow(\"Laplacian for Sharpened Body Scan\", sharpened_scan)\n",
    "cv2.imshow(\"Laplacian for Sharpened Brain\", sharpened_brain)\n",
    "\n",
    "cv2.waitKey(0)"
   ]
  },
  {
   "cell_type": "markdown",
   "id": "274c063c",
   "metadata": {},
   "source": [
    "#### (d) Find Sobel gradient of image"
   ]
  },
  {
   "cell_type": "code",
   "execution_count": null,
   "id": "3b3b7897",
   "metadata": {},
   "outputs": [],
   "source": [
    "# sobelx = cv2.Sobel(body_scann)  # x\n",
    "# sobely = cv2.Sobel(body_scann,cv2.CV_64F,0,1,ksize=5)  # y\n",
    "\n",
    "# construct the Sobel x-axis kernel\n",
    "sobelx = np.array((\n",
    "    [-1, 0, 1],\n",
    "    [-2, 0, 2],\n",
    "    [-1, 0, 1]), dtype=\"int\")\n",
    "\n",
    "# construct the Sobel y-axis kernel\n",
    "sobely = np.array((\n",
    "    [-1, -2, -1],\n",
    "    [0, 0, 0],\n",
    "    [1, 2, 1]), dtype=\"int\")\n",
    "\n",
    "\n",
    "# Apply sobel to brain\n",
    "# convolve\n",
    "sobelx_brain = convolve(brain, sobelx)\n",
    "sobely_brain = convolve(brain, sobely)\n",
    "\n",
    "# 2D-filter\n",
    "sobelx_brain_filter = cv2.filter2D(brain,-1,sobelx)\n",
    "sobely_brain_filter = cv2.filter2D(brain,-1,sobely)\n",
    "\n",
    "# Apply sobel to body scan\n",
    "# convolve\n",
    "sobelx_scan = convolve(body_scan, sobelx)\n",
    "sobely_scan = convolve(body_scan, sobely)\n",
    "\n",
    "# 2D-filter \n",
    "sobelx_scan_filter = cv2.filter2D(scan,-1,sobelx)\n",
    "sobely_scan_filter = cv2.filter2D(scan,-1,sobely)\n",
    "\n",
    "# combine sobel gradient for brain\n",
    "sobel_gradient_b = np.sqrt(np.square(sobelx_brain) + np.square(sobely_brain))\n",
    "sobel_gradient_b *= 255.0 / sobel_gradient_b.max()\n",
    "\n",
    "sobel_gradient_b = np.array(sobel_gradient_b, dtype=\"uint8\")\n",
    "\n",
    "# combine sobel gradient for scan\n",
    "sobel_gradient_s = np.sqrt(np.square(sobelx_scan) + np.square(sobely_scan))\n",
    "sobel_gradient_s *= 255.0 / sobel_gradient_s.max()\n",
    "sobel_gradient_s = np.array(sobel_gradient_s, dtype=\"uint8\")\n",
    "\n",
    "\n",
    "cv2.imshow(\"Sobel for x-axis of Image:Brain\", sobelx_brain)\n",
    "cv2.imshow(\"Sobel for y-axis of Image:Brain\", sobely_brain)\n",
    "cv2.imshow(\"Combined sobel gradient of Image:Brain\", sobel_gradient_b)\n",
    "\n",
    "cv2.imshow(\"Sobel for x-axis of Image:Scan\", sobelx_scan)\n",
    "cv2.imshow(\"Sobel for y-axis of Image:Scan\", sobely_scan)\n",
    "cv2.imshow(\"Combined sobel gradient of Image:Scan\", sobel_gradient_s)\n",
    "\n",
    "cv2.waitKey(0)"
   ]
  },
  {
   "cell_type": "markdown",
   "id": "f0b2a8c5",
   "metadata": {},
   "source": [
    "#### (e) Smooth the sobel image with a 5X5 box filter."
   ]
  },
  {
   "cell_type": "code",
   "execution_count": null,
   "id": "5fa4e976",
   "metadata": {},
   "outputs": [],
   "source": [
    "sobel_kern = np.ones((5,5),np.float32)/25\n",
    "# convolve\n",
    "smooth_sobel_gradient_b = convolve(sobel_gradient_b, sobel_kern)\n",
    "smooth_sobel_gradient_s = convolve(sobel_gradient_s, sobel_kern)\n",
    "\n",
    "# 2D-filter\n",
    "smooth_sobel_filter_b = cv2.filter2D(sobel_gradient_b,-1,sobel_kern)\n",
    "smooth_sobel_filter_s = cv2.filter2D(sobel_gradient_s,-1,sobel_kern)\n",
    "\n",
    "cv2.imshow(\"Smoothened Sobel Gradient for Brain\", smooth_sobel_gradient_b)\n",
    "cv2.imshow(\"Smoothened Sobel Gradient for Body Scan\", smooth_sobel_gradient_s)\n",
    "cv2.waitKey(0)"
   ]
  },
  {
   "cell_type": "markdown",
   "id": "a17ccf52",
   "metadata": {},
   "source": [
    "#### (f) Form a mask image by the product of (b) and (e)."
   ]
  },
  {
   "cell_type": "code",
   "execution_count": null,
   "id": "42e0a6a0",
   "metadata": {},
   "outputs": [],
   "source": [
    "masked_brain = lap_brain_convolve * smooth_sobel_gradient_b\n",
    "masked_scan =  lap_scan_convolve * smooth_sobel_gradient_s\n",
    "\n",
    "cv2.imshow(\"Masked Brain Image\", masked_brain)\n",
    "cv2.imshow(\"Masked Body Scan\", masked_scan)\n",
    "cv2.waitKey(0)"
   ]
  },
  {
   "cell_type": "markdown",
   "id": "3fdc2634",
   "metadata": {},
   "source": [
    "#### (g) Sharp the image by the adding images (a) and (f)."
   ]
  },
  {
   "cell_type": "code",
   "execution_count": null,
   "id": "2e7ecc05",
   "metadata": {},
   "outputs": [],
   "source": [
    "sharp_brain = cv2.addWeighted(brain, 2, masked_brain, -1, 0)\n",
    "sharp_scan = cv2.addWeighted(body_scan, 2, masked_scan, -1, 0)\n",
    "\n",
    "cv2.imshow(\"Sharpened Brain Image\", sharp_brain)\n",
    "cv2.imshow(\"Sharpened Body Scan\", sharp_scan)\n",
    "cv2.waitKey(0)"
   ]
  },
  {
   "cell_type": "markdown",
   "id": "b0a07007",
   "metadata": {},
   "source": [
    "#### (h) Final result obtained by applying a powerlaw transformation to (g)"
   ]
  },
  {
   "cell_type": "code",
   "execution_count": null,
   "id": "cd296b97",
   "metadata": {},
   "outputs": [],
   "source": [
    "# Brain\n",
    "powlaw_brain = 255*(sharp_brain/255)**2\n",
    "gam_brain = np.array(powlaw_brain, dtype='uint8')\n",
    "\n",
    "# Scan\n",
    "powlaw_scan = 255*(sharp_scan/255)**2\n",
    "gam_scan = np.array(powlaw_scan, dtype='uint8')"
   ]
  },
  {
   "cell_type": "markdown",
   "id": "a10884c7",
   "metadata": {},
   "source": [
    "#### (i) Compare images (g) and (h) with (a). "
   ]
  },
  {
   "cell_type": "code",
   "execution_count": null,
   "id": "610b1732",
   "metadata": {},
   "outputs": [],
   "source": [
    "compare_brain = np.hstack((sharp_brain, gam_brain, brain))\n",
    "cv2.imshow(\"Compare Brain Images:Sharpened, Power Law Transform, Input Image\", compare_brain)\n",
    "\n",
    "compare_scan = np.hstack((sharp_scan, gam_scan, body_scan))\n",
    "cv2.imshow(\"Compare Scan Images:Sharpened, Power Law Transform, Input Image\", compare_scan)\n",
    "cv2.waitKey()"
   ]
  },
  {
   "cell_type": "markdown",
   "id": "e54a2d3d",
   "metadata": {},
   "source": [
    "#### When compared with the Sharpened image, the Power Law transformed image has less noise around it and highlighs the image from its background thereby producing a clean and well-detailed result. "
   ]
  }
 ],
 "metadata": {
  "kernelspec": {
   "display_name": "Python 3 (ipykernel)",
   "language": "python",
   "name": "python3"
  },
  "language_info": {
   "codemirror_mode": {
    "name": "ipython",
    "version": 3
   },
   "file_extension": ".py",
   "mimetype": "text/x-python",
   "name": "python",
   "nbconvert_exporter": "python",
   "pygments_lexer": "ipython3",
   "version": "3.9.12"
  }
 },
 "nbformat": 4,
 "nbformat_minor": 5
}
